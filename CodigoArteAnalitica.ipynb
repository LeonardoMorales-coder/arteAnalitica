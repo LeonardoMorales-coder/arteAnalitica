{
 "cells": [
  {
   "cell_type": "markdown",
   "metadata": {},
   "source": [
    "<strong>Ejercicios con Python</strong>\n",
    "<ol>\n",
    "<li>Escribir una función de Python que encuentre los números primos en los primeros N números naturales.</li>\n",
    "<ul>\n",
    "    <li>N es el argumento de la función.</li>\n",
    "    <li>Llamar la función desde el código principal.</li>\n",
    "    </ul>\n",
    "    <li>Escribir una función de Python <em>crossProductA</em> que encuentre el producto cruz en vectores de 3 componentes.</li>\n",
    "    <ul>\n",
    "        <li>La función recibe dos listas (vectores).</li>\n",
    "        <li>La función regresa un tercer vector (lista) con el resultado.</li>\n",
    "        <li>Llamar a la función desde el código principal.</li></ul>\n",
    "    <li>Re-escribir el problema 2, pero ahora los vectores son leídos desde un archivo de texto.</li>\n",
    "</ol>"
   ]
  },
  {
   "cell_type": "code",
   "execution_count": 9,
   "metadata": {},
   "outputs": [],
   "source": [
    "import math\n",
    "def findPrimes(n):\n",
    "    primes = []\n",
    "    # Ver el residuo. Usar % para ver si da cero el residuo de la division\n",
    "    # ALgoritmo: Criba de Eratostenes\n",
    "    for i in range(2, n+1):  # 2 3 4 5 6 7 8 9 10 --- i\n",
    "        isPrime = True # Asumir que es primo\n",
    "        limit = int(math.sqrt(i)) # Definir limite de prueba \n",
    "        for test in range(2, limit+1): \n",
    "            # Se puede dividir i entre test?\n",
    "            if i % test == 0: # Si se puede\n",
    "                isPrime = False # No es primo\n",
    "                break # Dejar de buscar\n",
    "        # Despues del for...\n",
    "        if isPrime:\n",
    "            primes.append(i)\n",
    "    return primes"
   ]
  },
  {
   "cell_type": "code",
   "execution_count": 10,
   "metadata": {},
   "outputs": [
    {
     "name": "stdout",
     "output_type": "stream",
     "text": [
      "[2, 3, 5, 7, 11, 13, 17, 19, 23, 29, 31, 37, 41, 43, 47, 53, 59, 61, 67, 71, 73, 79, 83, 89, 97]\n"
     ]
    }
   ],
   "source": [
    "primes100 = findPrimes(100)\n",
    "print(primes100)"
   ]
  },
  {
   "cell_type": "code",
   "execution_count": 11,
   "metadata": {},
   "outputs": [],
   "source": [
    "def crossProductA(a, b):\n",
    "    # a = (ax, ay, az)\n",
    "    # b = (bx, by, bz)\n",
    "    # axb = ( ay*bz - az*by, az*bx - ax*bz, ax*yb - ay*bx )\n",
    "    # x = 0\n",
    "    # y = 1\n",
    "    # z = 2\n",
    "    product = [a[1]*b[2]-a[2]*b[1], a[2]*b[0]-a[0]*b[2], a[0]*b[1]-a[1]*b[0]]#calcular el producto\n",
    "    # 3D cross product?\n",
    "    return product"
   ]
  },
  {
   "cell_type": "code",
   "execution_count": 12,
   "metadata": {},
   "outputs": [
    {
     "name": "stdout",
     "output_type": "stream",
     "text": [
      "[-3, 6, -3]\n"
     ]
    }
   ],
   "source": [
    "vectorA = [1, 2, 3]\n",
    "vectorB = [4, 5, 6]\n",
    "producto = crossProductA(vectorA, vectorB)\n",
    "print(producto)"
   ]
  },
  {
   "cell_type": "code",
   "execution_count": 17,
   "metadata": {},
   "outputs": [],
   "source": [
    "def crossProductB():\n",
    "    # Read a, b from file: vectors.txt\n",
    "    file = open(\"vectors.txt\", \"r\")\n",
    "    \n",
    "    for line in file:\n",
    "        print(line)\n",
    "    \n",
    "    linea1 = file.readline().strip()\n",
    "    linea2 = file.readline().strip()\n",
    "    \n",
    "    file.close()\n",
    "    \n",
    "    vector1 = linea1.split(\",\")\n",
    "    vector2 = linea2.split(\",\")\n",
    "    \n",
    "    \n",
    "    for i in range(3):\n",
    "        vector1[i] = float(vector1[i])\n",
    "        vector2[i] = float(vector2[i])\n",
    "    #print(vector1)\n",
    "    #print(vector2)\n",
    "    \n",
    "    product = crossProductA(vector1, vector2)\n",
    "\n",
    "    return product"
   ]
  },
  {
   "cell_type": "code",
   "execution_count": 18,
   "metadata": {},
   "outputs": [
    {
     "name": "stdout",
     "output_type": "stream",
     "text": [
      "13.45, 20.67, -15.0821\n",
      "\n",
      "-5.012, -40.333, 12.874\n",
      "\n"
     ]
    },
    {
     "ename": "ValueError",
     "evalue": "could not convert string to float: ''",
     "output_type": "error",
     "traceback": [
      "\u001b[1;31m---------------------------------------------------------------------------\u001b[0m",
      "\u001b[1;31mValueError\u001b[0m                                Traceback (most recent call last)",
      "\u001b[1;32m<ipython-input-18-7439d2332e62>\u001b[0m in \u001b[0;36m<module>\u001b[1;34m\u001b[0m\n\u001b[1;32m----> 1\u001b[1;33m \u001b[0mprint\u001b[0m\u001b[1;33m(\u001b[0m\u001b[0mcrossProductB\u001b[0m\u001b[1;33m(\u001b[0m\u001b[1;33m)\u001b[0m\u001b[1;33m)\u001b[0m\u001b[1;33m\u001b[0m\u001b[1;33m\u001b[0m\u001b[0m\n\u001b[0m",
      "\u001b[1;32m<ipython-input-17-2920a850b5d5>\u001b[0m in \u001b[0;36mcrossProductB\u001b[1;34m()\u001b[0m\n\u001b[0;32m     16\u001b[0m \u001b[1;33m\u001b[0m\u001b[0m\n\u001b[0;32m     17\u001b[0m     \u001b[1;32mfor\u001b[0m \u001b[0mi\u001b[0m \u001b[1;32min\u001b[0m \u001b[0mrange\u001b[0m\u001b[1;33m(\u001b[0m\u001b[1;36m3\u001b[0m\u001b[1;33m)\u001b[0m\u001b[1;33m:\u001b[0m\u001b[1;33m\u001b[0m\u001b[1;33m\u001b[0m\u001b[0m\n\u001b[1;32m---> 18\u001b[1;33m         \u001b[0mvector1\u001b[0m\u001b[1;33m[\u001b[0m\u001b[0mi\u001b[0m\u001b[1;33m]\u001b[0m \u001b[1;33m=\u001b[0m \u001b[0mfloat\u001b[0m\u001b[1;33m(\u001b[0m\u001b[0mvector1\u001b[0m\u001b[1;33m[\u001b[0m\u001b[0mi\u001b[0m\u001b[1;33m]\u001b[0m\u001b[1;33m)\u001b[0m\u001b[1;33m\u001b[0m\u001b[1;33m\u001b[0m\u001b[0m\n\u001b[0m\u001b[0;32m     19\u001b[0m         \u001b[0mvector2\u001b[0m\u001b[1;33m[\u001b[0m\u001b[0mi\u001b[0m\u001b[1;33m]\u001b[0m \u001b[1;33m=\u001b[0m \u001b[0mfloat\u001b[0m\u001b[1;33m(\u001b[0m\u001b[0mvector2\u001b[0m\u001b[1;33m[\u001b[0m\u001b[0mi\u001b[0m\u001b[1;33m]\u001b[0m\u001b[1;33m)\u001b[0m\u001b[1;33m\u001b[0m\u001b[1;33m\u001b[0m\u001b[0m\n\u001b[0;32m     20\u001b[0m     \u001b[0mprint\u001b[0m\u001b[1;33m(\u001b[0m\u001b[0mvector1\u001b[0m\u001b[1;33m)\u001b[0m\u001b[1;33m\u001b[0m\u001b[1;33m\u001b[0m\u001b[0m\n",
      "\u001b[1;31mValueError\u001b[0m: could not convert string to float: ''"
     ]
    }
   ],
   "source": [
    "print(crossProductB())"
   ]
  },
  {
   "cell_type": "code",
   "execution_count": 16,
   "metadata": {},
   "outputs": [
    {
     "name": "stdout",
     "output_type": "stream",
     "text": [
      "13.45, 20.67, -15.0821\n",
      "-5.012, -40.333, 12.874\n",
      "['13.45', ' 20.67', ' -15.0821']\n",
      "['-5.012', ' -40.333', ' 12.874']\n",
      "[13.45, 20.67, -15.0821]\n",
      "[-5.012, -40.333, 12.874]\n"
     ]
    }
   ],
   "source": [
    "file = open(\"vectors.txt\", \"r\")\n",
    "linea1 = file.readline().strip()\n",
    "linea2 = file.readline().strip()\n",
    "print(linea1)\n",
    "print(linea2)\n",
    "\n",
    "file.close()\n",
    "\n",
    "vector1 = linea1.split(\",\")\n",
    "vector2 = linea2.split(\",\")\n",
    "print(vector1)\n",
    "print(vector2)\n",
    "\n",
    "for i in range(3):\n",
    "    vector1[i] = float(vector1[i])\n",
    "    vector2[i] = float(vector2[i])\n",
    "print(vector1)\n",
    "print(vector2)"
   ]
  },
  {
   "cell_type": "code",
   "execution_count": null,
   "metadata": {},
   "outputs": [],
   "source": []
  },
  {
   "cell_type": "code",
   "execution_count": null,
   "metadata": {},
   "outputs": [],
   "source": []
  }
 ],
 "metadata": {
  "kernelspec": {
   "display_name": "Python 3",
   "language": "python",
   "name": "python3"
  },
  "language_info": {
   "codemirror_mode": {
    "name": "ipython",
    "version": 3
   },
   "file_extension": ".py",
   "mimetype": "text/x-python",
   "name": "python",
   "nbconvert_exporter": "python",
   "pygments_lexer": "ipython3",
   "version": "3.8.5"
  }
 },
 "nbformat": 4,
 "nbformat_minor": 4
}
